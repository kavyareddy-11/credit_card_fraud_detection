{
 "cells": [
  {
   "cell_type": "code",
   "execution_count": 36,
   "id": "f0f39311-c830-48e4-8608-ae16fc3e3959",
   "metadata": {},
   "outputs": [],
   "source": [
    "import pandas as pd\n",
    "\n",
    "def predict_transaction(transaction_features):\n",
    "    # Make DataFrame with same feature names used in training\n",
    "    feature_names = [\"V1\",\"V2\",\"V3\",...,\"V28\",\"Amount\"]  # same order as training\n",
    "    transaction_df = pd.DataFrame([transaction_features], columns=feature_names)\n",
    "\n",
    "    # Scale features\n",
    "    if scaler:\n",
    "        transaction_df = scaler.transform(transaction_df)\n",
    "\n",
    "    # Predict\n",
    "    prediction = model.predict(transaction_df)[0]\n",
    "    return \"Fraudulent\" if prediction == 1 else \"Not Fraudulent\"\n"
   ]
  },
  {
   "cell_type": "code",
   "execution_count": null,
   "id": "a0a6c7b8-6f36-42a0-81ae-7c489253e4eb",
   "metadata": {},
   "outputs": [],
   "source": []
  }
 ],
 "metadata": {
  "kernelspec": {
   "display_name": "Python 3 (ipykernel)",
   "language": "python",
   "name": "python3"
  },
  "language_info": {
   "codemirror_mode": {
    "name": "ipython",
    "version": 3
   },
   "file_extension": ".py",
   "mimetype": "text/x-python",
   "name": "python",
   "nbconvert_exporter": "python",
   "pygments_lexer": "ipython3",
   "version": "3.13.5"
  }
 },
 "nbformat": 4,
 "nbformat_minor": 5
}
